{
 "cells": [
  {
   "cell_type": "markdown",
   "metadata": {},
   "source": [
    "## NumPy, Python and Vectorization for Multiple Linear Regression"
   ]
  },
  {
   "cell_type": "code",
   "execution_count": 3,
   "metadata": {},
   "outputs": [],
   "source": [
    "import numpy as np\n",
    "import time"
   ]
  },
  {
   "cell_type": "markdown",
   "metadata": {},
   "source": [
    "Numpy or Numerical Python: https://numpy.org/doc/stable/user/absolute_beginners.html\n",
    "- Matrix,\n",
    "- Matrix functions/operations\n",
    "- Vectors: an ordered sequence of the same data type (can't contain both characters and numbers) that run from 0 to n-1 in code and 1 to n in math\n",
    "- Dimension/ Rank - n: column vector (x1,x2,x3......,xn)"
   ]
  },
  {
   "cell_type": "markdown",
   "metadata": {},
   "source": [
    "### Broadcasting in NumPy\n",
    "How NumPy changes the shape of an n-dimensional array to carry out various aritmetic operations\n",
    "\n",
    "#### Vector multiplication:"
   ]
  },
  {
   "cell_type": "code",
   "execution_count": 18,
   "metadata": {},
   "outputs": [
    {
     "name": "stdout",
     "output_type": "stream",
     "text": [
      "[[ 2.  4.]\n",
      " [ 4.  8.]\n",
      " [ 6. 12.]]\n"
     ]
    }
   ],
   "source": [
    "a = np.array([1.0,2.0,3.0])\n",
    "b = np.array([2,4])\n",
    "c = np.reshape(a,(3,1))*b\n",
    "print(c)\n"
   ]
  },
  {
   "cell_type": "markdown",
   "metadata": {},
   "source": [
    "### NumPy Arrays:\n",
    "Indexable, n-dimensional array containing elemnts of the same data type\n",
    "- 1-D array, shape (n,): n elements indexed [0] through [n-1]\n",
    "\n"
   ]
  },
  {
   "cell_type": "code",
   "execution_count": 43,
   "metadata": {},
   "outputs": [
    {
     "name": "stdout",
     "output_type": "stream",
     "text": [
      "b = [0. 0. 0. 0.]\n",
      "b.shape = (4,)\n",
      "b.dtype = float64\n",
      "a = [0. 0. 0. 0.]\n",
      "a.shape = (4,)\n",
      "a.dtype = float64\n",
      "4\n",
      "a = [0.93965912 0.6892852  0.29526915 0.3215618 ]\n",
      "a.shape = (4,)\n",
      "a.dtype = float64\n"
     ]
    }
   ],
   "source": [
    "# Examples of NumPy routines that allocate memory and fill arrays with value: zeros(4), zeros((4,)), random.random_sample(4)\n",
    "\n",
    "# Allocate memory and fill arrays with value\n",
    "a = np.zeros(4) # this uses the shape of the array as an input as well\n",
    "b = np.zeros((4,)) # requires 4 as the input argument indicating that they require an array of shape 4\n",
    "print(f\"b = {b}\\nb.shape = {b.shape}\\nb.dtype = {b.dtype}\")\n",
    "print(f\"a = {a}\\na.shape = {a.shape}\\na.dtype = {a.dtype}\")\n",
    "print(len(b))\n",
    "a = np.random.random_sample(4)\n",
    "print(f\"a = {a}\\na.shape = {a.shape}\\na.dtype = {a.dtype}\")"
   ]
  },
  {
   "cell_type": "code",
   "execution_count": 45,
   "metadata": {},
   "outputs": [
    {
     "name": "stdout",
     "output_type": "stream",
     "text": [
      "a = [0. 1. 2. 3.]\n",
      "a.shape = (4,)\n",
      "a.dtype = float64\n",
      "b = [0.08184469 0.60174855 0.06828144 0.91246989]\n",
      "b.shape = (4,)\n",
      "b.dtype = float64\n",
      "c = [0 1 2 3]\n",
      "c.shape = (4,)\n",
      "c.dtype = int32\n"
     ]
    },
    {
     "data": {
      "text/plain": [
       "4"
      ]
     },
     "execution_count": 45,
     "metadata": {},
     "output_type": "execute_result"
    }
   ],
   "source": [
    "# Examples of NumPy routine that allocate memory but do not accept shape as an input argument: \n",
    "# arange(4.): start and stop, random.rand(4)\n",
    "# Allocate memory but do not accept shape as an input argument\n",
    "a = np.arange(4.) # arange uses start and stop: 4. means that the array will stop at 4-1, and start from 0\n",
    "print(f\"a = {a}\\na.shape = {a.shape}\\na.dtype = {a.dtype}\")\n",
    "b = np.random.rand(4)\n",
    "print(f\"b = {b}\\nb.shape = {b.shape}\\nb.dtype = {b.dtype}\")\n",
    "\n",
    "\n",
    "# Does not accept 4 as the shape of the array\n",
    "c = np.arange(4,)\n",
    "print(f\"c = {c}\\nc.shape = {c.shape}\\nc.dtype = {c.dtype}\")\n",
    "\n",
    "len(b)"
   ]
  },
  {
   "cell_type": "code",
   "execution_count": 50,
   "metadata": {},
   "outputs": [
    {
     "name": "stdout",
     "output_type": "stream",
     "text": [
      "b = [4 5 6 7]\n",
      "b.shape = (4,)\n",
      "b.dtype = int32\n",
      "a = [ 4.  5. 78. 43.]\n",
      "a.shape = (4,)\n",
      "a.dtype = float64\n"
     ]
    }
   ],
   "source": [
    "# Examples of NumPy routines that allocate memory and fill with user specified values\n",
    "b = np.array([4,5,6,7])\n",
    "print(f\"b = {b}\\nb.shape = {b.shape}\\nb.dtype = {b.dtype}\")\n",
    "a = np.array([4.,5,78,43])\n",
    "print(f\"a = {a}\\na.shape = {a.shape}\\na.dtype = {a.dtype}\") # float data type\n"
   ]
  },
  {
   "cell_type": "markdown",
   "metadata": {},
   "source": [
    "##### **a.shape = (4,) -> dimension of the array is 4**"
   ]
  },
  {
   "cell_type": "markdown",
   "metadata": {},
   "source": [
    "### Slicing and Indexing\n",
    "- Slicing - extracting a subset from that array\n",
    "- Indexing - obaining the value in that array at that partciular index\n"
   ]
  },
  {
   "cell_type": "code",
   "execution_count": 57,
   "metadata": {},
   "outputs": [
    {
     "name": "stdout",
     "output_type": "stream",
     "text": [
      "[0 1 2 3 4 5 6 7 8 9]\n",
      "a[2] = 2\n",
      "a[-1] = 9\n",
      "The error message you will see is:\n",
      "index 10 is out of bounds for axis 0 with size 10\n"
     ]
    }
   ],
   "source": [
    "# Indexing\n",
    "a = np.arange(10)\n",
    "print(a)\n",
    "\n",
    "print(f\"a[2] = {a[2]}\")\n",
    "print(f\"a[-1] = {a[-1]}\")\n",
    "try:\n",
    "    c = a[10]\n",
    "except Exception as e:\n",
    "    print(\"The error message you will see is:\")\n",
    "    print(e)"
   ]
  },
  {
   "cell_type": "code",
   "execution_count": 68,
   "metadata": {},
   "outputs": [
    {
     "name": "stdout",
     "output_type": "stream",
     "text": [
      "a[10:2:-1] = [9 8 7 6 5 4 3]\n",
      "a[1:6:] = [1 2 3 4 5]\n",
      "a[1:6:2] = [1 3 5]\n",
      "a[3:] = [3 4 5 6 7 8 9]\n",
      "a[:3] = [0 1 2]\n",
      "a[:]=[0 1 2 3 4 5 6 7 8 9]\n"
     ]
    }
   ],
   "source": [
    "# Slicing (start:stop:step)\n",
    "a = np.arange(10)\n",
    "print(f\"a[10:2:-1] = {a[10:2:-1]}\")\n",
    "print(f\"a[1:6:] = {a[1:6:]}\")\n",
    "print(f\"a[1:6:2] = {a[1:6:2]}\")\n",
    "print(f\"a[3:] = {a[3:]}\")\n",
    "print(f\"a[:3] = {a[:3]}\")\n",
    "print(f\"a[:]={a[:]}\")"
   ]
  },
  {
   "cell_type": "markdown",
   "metadata": {},
   "source": [
    "### Single Vector Operation\n",
    "- Mean\n",
    "- Sum \n",
    "- Multiplication with a scalar\n",
    "- Negative\n"
   ]
  },
  {
   "cell_type": "code",
   "execution_count": 79,
   "metadata": {},
   "outputs": [
    {
     "name": "stdout",
     "output_type": "stream",
     "text": [
      "[1 2 3 4]\n",
      "[-1 -2 -3 -4]\n",
      "[2 4 6 8]\n",
      "[ 1  4  9 16]\n",
      "10\n",
      "2.5\n"
     ]
    }
   ],
   "source": [
    "a = np.array([1,2,3,4])\n",
    "print(a)\n",
    "\n",
    "b = -a\n",
    "print(b)\n",
    "\n",
    "c = 2*a\n",
    "print(c)\n",
    "\n",
    "d = a**2\n",
    "print(d)\n",
    "\n",
    "e = np.sum(a)\n",
    "print(e)\n",
    "\n",
    "d = np.mean(a)\n",
    "print(d)"
   ]
  },
  {
   "cell_type": "markdown",
   "metadata": {},
   "source": [
    "### Vector vector element wise operations\n",
    "$$c_i = a_i +b_i$$\n",
    "Vectors should of the same size for addition to take place"
   ]
  },
  {
   "cell_type": "code",
   "execution_count": 82,
   "metadata": {},
   "outputs": [
    {
     "name": "stdout",
     "output_type": "stream",
     "text": [
      "[0 0 0 0]\n"
     ]
    }
   ],
   "source": [
    "a = np.array([1,2,3,4])\n",
    "b = np.array([-1,-2,-3,-4])\n",
    "print(a+b)"
   ]
  },
  {
   "cell_type": "code",
   "execution_count": 85,
   "metadata": {},
   "outputs": [
    {
     "name": "stdout",
     "output_type": "stream",
     "text": [
      "[0 1 2]\n",
      "The error is: \n",
      "operands could not be broadcast together with shapes (2,) (3,) \n"
     ]
    }
   ],
   "source": [
    "a = np.array([1,2])\n",
    "b = np.arange(3,)\n",
    "print(b)\n",
    "try:\n",
    "    c = a+b\n",
    "except Exception as e:\n",
    "    print(\"The error is: \")\n",
    "    print(e)"
   ]
  },
  {
   "cell_type": "markdown",
   "metadata": {},
   "source": [
    "### Scalar Vector operations"
   ]
  },
  {
   "cell_type": "code",
   "execution_count": 88,
   "metadata": {},
   "outputs": [
    {
     "name": "stdout",
     "output_type": "stream",
     "text": [
      "[ 5 10 15 20]\n"
     ]
    }
   ],
   "source": [
    "A = np.array([1,2,3,4])\n",
    "\n",
    "b = 5*A\n",
    "print(b)"
   ]
  },
  {
   "cell_type": "markdown",
   "metadata": {},
   "source": [
    "### Vector Vector Dot Product\n",
    "\n",
    "$$a.b = \\sum \\limits_{i=0}^{n-1} a_ib_i$$\n",
    "$$ a.b = (a_0,a_1,a_2,a_3)(b_0,b_1,b_2,b_3) = [a_0b_0 + a_1b_1 + a_2b_2 + a_3b_3 ]$$"
   ]
  },
  {
   "cell_type": "code",
   "execution_count": 94,
   "metadata": {},
   "outputs": [
    {
     "name": "stdout",
     "output_type": "stream",
     "text": [
      "shape  of a = (3,)\n",
      "shape  of b = (3,)\n",
      "26\n"
     ]
    }
   ],
   "source": [
    "a = np.array([1,2,3])\n",
    "b = np.array([3,4,5])\n",
    "print(f\"shape  of a = {a.shape}\")\n",
    "print(f\"shape  of b = {b.shape}\")\n",
    "c = np.dot(a,b)\n",
    "print(c)"
   ]
  },
  {
   "cell_type": "markdown",
   "metadata": {},
   "source": [
    "### Using a for loop"
   ]
  },
  {
   "cell_type": "code",
   "execution_count": 95,
   "metadata": {},
   "outputs": [],
   "source": [
    "def my_dot(a,b):\n",
    "    x=0\n",
    "    for i in range(len(a)):\n",
    "        x = x + a[i]*b[i]\n",
    "    return x"
   ]
  },
  {
   "cell_type": "code",
   "execution_count": 97,
   "metadata": {},
   "outputs": [
    {
     "data": {
      "text/plain": [
       "50"
      ]
     },
     "execution_count": 97,
     "metadata": {},
     "output_type": "execute_result"
    }
   ],
   "source": [
    "a = np.array([1,2,3,4])\n",
    "b = np.array([3,4,5,6])\n",
    "my_dot(a,b) # for loop without vectorization"
   ]
  },
  {
   "cell_type": "code",
   "execution_count": 98,
   "metadata": {},
   "outputs": [
    {
     "name": "stdout",
     "output_type": "stream",
     "text": [
      "50\n"
     ]
    }
   ],
   "source": [
    "print(np.dot(a,b)) # vectorization"
   ]
  },
  {
   "cell_type": "markdown",
   "metadata": {},
   "source": [
    "### Consider a very large array\n"
   ]
  },
  {
   "cell_type": "code",
   "execution_count": 128,
   "metadata": {},
   "outputs": [
    {
     "name": "stdout",
     "output_type": "stream",
     "text": [
      "[4.17022005e-01 7.20324493e-01 1.14374817e-04 ... 1.62642575e-01\n",
      " 8.55441337e-01 6.51160047e-01]\n",
      "[0.49884527 0.5194437  0.9480511  ... 0.99416697 0.61599986 0.41453835]\n",
      "Dot Product of a and b = 2501072.5816813176, Vectorised version duration: 8.0104\n",
      "Dot Product of a and b = 2501072.5816813707, Vectorised version duration: 18482.4843\n"
     ]
    }
   ],
   "source": [
    "np.random.seed(1)\n",
    "a = np.random.rand(10000000)\n",
    "b = np.random.rand(10000000)\n",
    "print(a)\n",
    "print(b)\n",
    "\n",
    "tic = time.time() # start_time\n",
    "c = np.dot(a,b)\n",
    "toc = time.time() # end time\n",
    "\n",
    "print(f\"Dot Product of a and b = {c}, Vectorised version duration: {1000*(toc-tic):.4f}\")\n",
    "\n",
    "tic = time.time()\n",
    "d = my_dot(a,b)\n",
    "toc = time.time()\n",
    "\n",
    "print(f\"Dot Product of a and b = {d}, Vectorised version duration: {1000*(toc-tic):.4f}\")\n",
    "del(a);del(b) # remove big arrays from memory"
   ]
  },
  {
   "cell_type": "code",
   "execution_count": 132,
   "metadata": {},
   "outputs": [
    {
     "name": "stdout",
     "output_type": "stream",
     "text": [
      "(4, 1)\n",
      "(1,)\n"
     ]
    }
   ],
   "source": [
    "x = np.array([[1],[2],[3],[4]])\n",
    "print(x.shape)\n",
    "print(x[1].shape)\n"
   ]
  },
  {
   "cell_type": "markdown",
   "metadata": {},
   "source": [
    "### Matrix"
   ]
  },
  {
   "cell_type": "code",
   "execution_count": 136,
   "metadata": {},
   "outputs": [
    {
     "name": "stdout",
     "output_type": "stream",
     "text": [
      "[[0. 0. 0. 0.]\n",
      " [0. 0. 0. 0.]]\n",
      "(2, 4)\n",
      "(4,)\n"
     ]
    }
   ],
   "source": [
    "# Creation \n",
    "x = np.zeros((2,4))\n",
    "print(x)\n",
    "print(x.shape)\n",
    "print(x[1].shape)\n"
   ]
  },
  {
   "cell_type": "code",
   "execution_count": 141,
   "metadata": {},
   "outputs": [
    {
     "name": "stdout",
     "output_type": "stream",
     "text": [
      "[[1]\n",
      " [2]\n",
      " [3]\n",
      " [4]]\n",
      "(4, 1)\n",
      "[[1 2 3]\n",
      " [4 5 6]\n",
      " [7 8 9]]\n"
     ]
    }
   ],
   "source": [
    "a = np.array([[1],[2],[3],[4]])\n",
    "b = np.array([[1,2,3],[4,5,6],[7,8,9]])\n",
    "print(a)\n",
    "print(a.shape)\n",
    "print(b)"
   ]
  },
  {
   "cell_type": "markdown",
   "metadata": {},
   "source": [
    "### Indexing \n"
   ]
  },
  {
   "cell_type": "code",
   "execution_count": 163,
   "metadata": {},
   "outputs": [
    {
     "name": "stdout",
     "output_type": "stream",
     "text": [
      "[[0 1]\n",
      " [2 3]\n",
      " [4 5]]\n",
      "(2,)\n",
      "5\n",
      "()\n",
      "<class 'numpy.int32'>\n"
     ]
    }
   ],
   "source": [
    "a = np.arange(0,6)\n",
    "a = a.reshape(3,2) # changes into 3 rows and 2 columns\n",
    "print(a)\n",
    "print(a[2].shape)\n",
    "print(a[2][-1])\n",
    "print(a[2][0].shape)\n",
    "print(type(a[2][1]))\n",
    "\n"
   ]
  },
  {
   "cell_type": "markdown",
   "metadata": {},
   "source": [
    "### Slicing"
   ]
  },
  {
   "cell_type": "code",
   "execution_count": 177,
   "metadata": {},
   "outputs": [
    {
     "name": "stdout",
     "output_type": "stream",
     "text": [
      "[[ 0  1  2  3  4  5  6  7  8  9]\n",
      " [10 11 12 13 14 15 16 17 18 19]]\n",
      "a[0, 2:7:1] =  [2 3 4 5 6]\n",
      "a[:, 2:7:1] =  [[ 2  3  4  5  6]\n",
      " [12 13 14 15 16]]\n",
      "a[:,:]=  [[ 0  1  2  3  4  5  6  7  8  9]\n",
      " [10 11 12 13 14 15 16 17 18 19]]\n",
      "a[0, :]=  [0 1 2 3 4 5 6 7 8 9]\n"
     ]
    }
   ],
   "source": [
    "a = np.arange(20).reshape(2,10)\n",
    "print(a)\n",
    "\n",
    "# access consecutive elements (start:stop:step)\n",
    "print(\"a[0, 2:7:1] = \", a[0, 2:7:1])\n",
    "\n",
    "# access consecutive elements in two rows\n",
    "print(\"a[:, 2:7:1] = \", a[:, 2:7:1])\n",
    "\n",
    "# access all elements\n",
    "print(\"a[:,:]= \",a[:,:])\n",
    "\n",
    "# access all elements in own row \n",
    "print(\"a[0, :]= \",a[0,:])\n",
    "\n",
    "\n"
   ]
  },
  {
   "cell_type": "code",
   "execution_count": null,
   "metadata": {},
   "outputs": [],
   "source": []
  }
 ],
 "metadata": {
  "kernelspec": {
   "display_name": "Python 3",
   "language": "python",
   "name": "python3"
  },
  "language_info": {
   "codemirror_mode": {
    "name": "ipython",
    "version": 3
   },
   "file_extension": ".py",
   "mimetype": "text/x-python",
   "name": "python",
   "nbconvert_exporter": "python",
   "pygments_lexer": "ipython3",
   "version": "3.8.5"
  }
 },
 "nbformat": 4,
 "nbformat_minor": 4
}
