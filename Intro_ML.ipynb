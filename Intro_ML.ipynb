{
 "cells": [
  {
   "cell_type": "code",
   "execution_count": 1,
   "metadata": {},
   "outputs": [
    {
     "name": "stdout",
     "output_type": "stream",
     "text": [
      "Hello World!\n"
     ]
    }
   ],
   "source": [
    "print(\"Hello World!\")"
   ]
  },
  {
   "cell_type": "markdown",
   "metadata": {},
   "source": [
    "# Introduction to Machine Learning Algorithms:\n",
    "## Supervised and Unsupervised Learning Algorithms\n",
    "\n",
    "### Supervised: \n",
    "Provides the model with various Training Set examples: Mapping from input features to target variables.\n",
    "#### Regression Model: When possible output has infinitely main possibilities\n",
    "- For Example: Price Prediction of a house (in $) depending upon the size of the house (in sqft)\n",
    "\n",
    "#### Classification: When possible output has a discrete number of definite possibilities\n",
    "- For Example: Determining whether a certain objects belongs to any of the two categories: either a dog or a cat\n",
    "\n",
    "### Unsupervised:\n",
    "Makes the computer determine structure in the data set without providing any examples\n",
    "- Clustering\n",
    "- Anamoly Detection\n",
    "- Dimensionality Reduction"
   ]
  }
 ],
 "metadata": {
  "kernelspec": {
   "display_name": "Python 3",
   "language": "python",
   "name": "python3"
  },
  "language_info": {
   "codemirror_mode": {
    "name": "ipython",
    "version": 3
   },
   "file_extension": ".py",
   "mimetype": "text/x-python",
   "name": "python",
   "nbconvert_exporter": "python",
   "pygments_lexer": "ipython3",
   "version": "3.8.5"
  }
 },
 "nbformat": 4,
 "nbformat_minor": 4
}
